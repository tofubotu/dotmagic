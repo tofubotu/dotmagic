{
 "cells": [
  {
   "cell_type": "code",
   "execution_count": 11,
   "id": "ce6582b8-d206-4546-bc90-2dfdf205ac2e",
   "metadata": {},
   "outputs": [],
   "source": [
    "import docker\n",
    "client = docker.from_env()"
   ]
  },
  {
   "cell_type": "code",
   "execution_count": 12,
   "id": "4104480f-319b-47c8-bef8-9493aabe24d0",
   "metadata": {},
   "outputs": [
    {
     "data": {
      "text/plain": [
       "b'Linux 5e227b778d4e 5.15.133.1-microsoft-standard-WSL2 #1 SMP Thu Oct 5 21:02:42 UTC 2023 x86_64 x86_64 x86_64 GNU/Linux\\n'"
      ]
     },
     "execution_count": 12,
     "metadata": {},
     "output_type": "execute_result"
    }
   ],
   "source": [
    "client.containers.run(\"ubuntu:latest\", \"uname -a\",remove=True)\n"
   ]
  },
  {
   "cell_type": "code",
   "execution_count": 34,
   "id": "bfdab2ee-7462-48c8-bac6-def0a125b009",
   "metadata": {},
   "outputs": [
    {
     "name": "stdout",
     "output_type": "stream",
     "text": [
      "jupdoc-jupyter-1\n"
     ]
    }
   ],
   "source": [
    "for x in client.containers.list():\n",
    "    print(x.name)"
   ]
  },
  {
   "cell_type": "code",
   "execution_count": 35,
   "id": "a85c3067-5e40-4814-86bc-554ea55af296",
   "metadata": {},
   "outputs": [
    {
     "name": "stdout",
     "output_type": "stream",
     "text": [
      "Starting container:1\n",
      "<Container: 39dc966e87d3>\n",
      "Starting container:2\n",
      "<Container: 12936a1bc859>\n",
      "Starting container:3\n",
      "<Container: 4e7afe33d4c1>\n",
      "Starting container:4\n",
      "<Container: 4ce720fc05f8>\n"
     ]
    }
   ],
   "source": [
    "for i in range(1,5):\n",
    "    print(\"Starting container:{}\".format(i))\n",
    "    print(client.containers.run(\"ubuntu:latest\",\"sleep 100\", remove=True,detach=True,name=\"VM_{}\".format(i)))"
   ]
  },
  {
   "cell_type": "code",
   "execution_count": 21,
   "id": "7c5e9ace-b1e3-47c7-8b16-9d29fc613d56",
   "metadata": {},
   "outputs": [],
   "source": [
    "import os\n",
    "os.environ['TF_CPP_MIN_LOG_LEVEL'] = '2'"
   ]
  },
  {
   "cell_type": "code",
   "execution_count": 23,
   "id": "74950fbe-b7f6-4158-9ac7-ae1820e06279",
   "metadata": {},
   "outputs": [],
   "source": [
    "import tensorflow as tf"
   ]
  },
  {
   "cell_type": "code",
   "execution_count": 24,
   "id": "d6aefb73-4ca1-49cb-90a1-69c9fbc1ef2a",
   "metadata": {},
   "outputs": [],
   "source": [
    "mnist = tf.keras.datasets.mnist"
   ]
  },
  {
   "cell_type": "code",
   "execution_count": 25,
   "id": "30edceec-0b8d-4835-ad95-d4a1df7234cb",
   "metadata": {},
   "outputs": [
    {
     "name": "stdout",
     "output_type": "stream",
     "text": [
      "Downloading data from https://storage.googleapis.com/tensorflow/tf-keras-datasets/mnist.npz\n",
      "11490434/11490434 [==============================] - 1s 0us/step\n"
     ]
    }
   ],
   "source": [
    "(x_train, y_train), (x_test, y_test) = mnist.load_data()\n",
    "x_train, x_test = x_train / 255.0, x_test / 255.0"
   ]
  },
  {
   "cell_type": "code",
   "execution_count": 26,
   "id": "a2301b18-dbee-4552-a697-bc643bd74cc9",
   "metadata": {},
   "outputs": [],
   "source": [
    "model = tf.keras.models.Sequential([\n",
    "  tf.keras.layers.Flatten(input_shape=(28, 28)),\n",
    "  tf.keras.layers.Dense(128, activation='relu'),\n",
    "  tf.keras.layers.Dropout(0.2),\n",
    "  tf.keras.layers.Dense(10)\n",
    "])"
   ]
  },
  {
   "cell_type": "code",
   "execution_count": 27,
   "id": "5ee101ea-ebf4-4ae3-bfd6-919fb7372c73",
   "metadata": {},
   "outputs": [],
   "source": [
    "predictions = model(x_train[:1]).numpy()"
   ]
  },
  {
   "cell_type": "code",
   "execution_count": 28,
   "id": "0c15319c-ac65-4b55-b791-cb6b9272bb9d",
   "metadata": {},
   "outputs": [
    {
     "data": {
      "text/plain": [
       "array([[0.09554444, 0.01593016, 0.06942777, 0.10049261, 0.06741186,\n",
       "        0.07414344, 0.26594147, 0.09682124, 0.0945341 , 0.11975283]],\n",
       "      dtype=float32)"
      ]
     },
     "execution_count": 28,
     "metadata": {},
     "output_type": "execute_result"
    }
   ],
   "source": [
    "tf.nn.softmax(predictions).numpy()"
   ]
  },
  {
   "cell_type": "code",
   "execution_count": 29,
   "id": "65133fbd-fc61-4f2d-b51a-81ba2e9b5fe0",
   "metadata": {},
   "outputs": [],
   "source": [
    "loss_fn = tf.keras.losses.SparseCategoricalCrossentropy(from_logits=True)"
   ]
  },
  {
   "cell_type": "code",
   "execution_count": 30,
   "id": "ba7c1a5e-d3af-4a42-9cce-c2f1ace6643e",
   "metadata": {},
   "outputs": [
    {
     "data": {
      "text/plain": [
       "2.6017537"
      ]
     },
     "execution_count": 30,
     "metadata": {},
     "output_type": "execute_result"
    }
   ],
   "source": [
    "loss_fn(y_train[:1], predictions).numpy()"
   ]
  },
  {
   "cell_type": "code",
   "execution_count": 32,
   "id": "2d9213c5-0d03-497c-8903-53faa7752fc2",
   "metadata": {},
   "outputs": [],
   "source": [
    "model.compile(optimizer='adam',\n",
    "              loss=loss_fn,\n",
    "              metrics=['accuracy'])"
   ]
  },
  {
   "cell_type": "code",
   "execution_count": 33,
   "id": "5d3221cc-7a82-46c6-acdf-592ab818a834",
   "metadata": {},
   "outputs": [
    {
     "name": "stdout",
     "output_type": "stream",
     "text": [
      "Epoch 1/5\n",
      "1875/1875 [==============================] - 6s 3ms/step - loss: 0.3071 - accuracy: 0.9102\n",
      "Epoch 2/5\n",
      "1875/1875 [==============================] - 7s 4ms/step - loss: 0.1471 - accuracy: 0.9562\n",
      "Epoch 3/5\n",
      "1875/1875 [==============================] - 7s 3ms/step - loss: 0.1117 - accuracy: 0.9662\n",
      "Epoch 4/5\n",
      "1875/1875 [==============================] - 6s 3ms/step - loss: 0.0922 - accuracy: 0.9715\n",
      "Epoch 5/5\n",
      "1875/1875 [==============================] - 6s 3ms/step - loss: 0.0762 - accuracy: 0.9762\n"
     ]
    },
    {
     "data": {
      "text/plain": [
       "<keras.src.callbacks.History at 0x7f9008119e70>"
      ]
     },
     "execution_count": 33,
     "metadata": {},
     "output_type": "execute_result"
    }
   ],
   "source": [
    "model.fit(x_train, y_train, epochs=5)"
   ]
  },
  {
   "cell_type": "code",
   "execution_count": 36,
   "id": "320ead94-d488-4ba0-a379-5337f7b77f36",
   "metadata": {},
   "outputs": [
    {
     "name": "stdout",
     "output_type": "stream",
     "text": [
      "313/313 - 1s - loss: 0.0760 - accuracy: 0.9771 - 652ms/epoch - 2ms/step\n"
     ]
    },
    {
     "data": {
      "text/plain": [
       "[0.07600031793117523, 0.9771000146865845]"
      ]
     },
     "execution_count": 36,
     "metadata": {},
     "output_type": "execute_result"
    }
   ],
   "source": [
    "model.evaluate(x_test,  y_test, verbose=2)"
   ]
  },
  {
   "cell_type": "code",
   "execution_count": null,
   "id": "49b42aaa-bacd-4655-84d0-eff053a72323",
   "metadata": {},
   "outputs": [],
   "source": []
  }
 ],
 "metadata": {
  "kernelspec": {
   "display_name": "Python 3 (ipykernel)",
   "language": "python",
   "name": "python3"
  },
  "language_info": {
   "codemirror_mode": {
    "name": "ipython",
    "version": 3
   },
   "file_extension": ".py",
   "mimetype": "text/x-python",
   "name": "python",
   "nbconvert_exporter": "python",
   "pygments_lexer": "ipython3",
   "version": "3.10.12"
  }
 },
 "nbformat": 4,
 "nbformat_minor": 5
}
