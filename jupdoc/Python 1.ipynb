{
 "cells": [
  {
   "cell_type": "code",
   "execution_count": 6,
   "id": "292f397d-cced-407e-9b66-99da8a7522dc",
   "metadata": {},
   "outputs": [],
   "source": [
    "a=1\n",
    "a=2\n",
    "a=3"
   ]
  },
  {
   "cell_type": "code",
   "execution_count": 7,
   "id": "351fb62f-826e-4840-9208-4c40993d683e",
   "metadata": {},
   "outputs": [
    {
     "data": {
      "text/plain": [
       "3"
      ]
     },
     "execution_count": 7,
     "metadata": {},
     "output_type": "execute_result"
    }
   ],
   "source": [
    "a"
   ]
  },
  {
   "cell_type": "code",
   "execution_count": null,
   "id": "07bf60be-a2e0-4a60-9750-06c55ef61183",
   "metadata": {},
   "outputs": [],
   "source": []
  }
 ],
 "metadata": {
  "kernelspec": {
   "display_name": "Python 3 (ipykernel)",
   "language": "python",
   "name": "python3"
  },
  "language_info": {
   "codemirror_mode": {
    "name": "ipython",
    "version": 3
   },
   "file_extension": ".py",
   "mimetype": "text/x-python",
   "name": "python",
   "nbconvert_exporter": "python",
   "pygments_lexer": "ipython3",
   "version": "3.10.12"
  }
 },
 "nbformat": 4,
 "nbformat_minor": 5
}
